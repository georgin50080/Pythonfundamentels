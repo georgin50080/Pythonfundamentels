{
 "cells": [
  {
   "cell_type": "code",
   "execution_count": null,
   "metadata": {},
   "outputs": [],
   "source": [
    "#req:I want to have the entire list in an alphabetical order...A-Z"
   ]
  },
  {
   "cell_type": "code",
   "execution_count": null,
   "metadata": {},
   "outputs": [],
   "source": [
    "Two approaches \n",
    "1.Temporary approaches ---->sorted()\n",
    "2.Permanent approaches ---->sort"
   ]
  },
  {
   "cell_type": "code",
   "execution_count": null,
   "metadata": {},
   "outputs": [],
   "source": [
    "#Temporary approaches a,b,b,c---->Benz,Bmw"
   ]
  },
  {
   "cell_type": "code",
   "execution_count": 1,
   "metadata": {},
   "outputs": [
    {
     "name": "stdout",
     "output_type": "stream",
     "text": [
      "['Benz', 'Audi', 'Nissan', 'Toyota', 'Bmw']\n"
     ]
    }
   ],
   "source": [
    "Cars=['Benz','Audi','Nissan','Toyota','Bmw']\n",
    "print(Cars)"
   ]
  },
  {
   "cell_type": "code",
   "execution_count": 2,
   "metadata": {},
   "outputs": [
    {
     "name": "stdout",
     "output_type": "stream",
     "text": [
      "['Audi', 'Benz', 'Bmw', 'Nissan', 'Toyota']\n"
     ]
    }
   ],
   "source": [
    "print(sorted(Cars))"
   ]
  },
  {
   "cell_type": "code",
   "execution_count": 3,
   "metadata": {},
   "outputs": [
    {
     "name": "stdout",
     "output_type": "stream",
     "text": [
      "['Audi', 'Benz', 'Bmw', 'Nissan', 'Toyota']\n"
     ]
    }
   ],
   "source": [
    "Cars.sort()\n",
    "print(Cars)"
   ]
  },
  {
   "cell_type": "code",
   "execution_count": null,
   "metadata": {},
   "outputs": [],
   "source": [
    "#req: I want to know the count of the elements in the list"
   ]
  },
  {
   "cell_type": "code",
   "execution_count": 4,
   "metadata": {},
   "outputs": [
    {
     "data": {
      "text/plain": [
       "5"
      ]
     },
     "execution_count": 4,
     "metadata": {},
     "output_type": "execute_result"
    }
   ],
   "source": [
    "len(Cars)"
   ]
  },
  {
   "cell_type": "code",
   "execution_count": null,
   "metadata": {},
   "outputs": [],
   "source": [
    "# I want to print the list in the reverse order"
   ]
  },
  {
   "cell_type": "code",
   "execution_count": 5,
   "metadata": {},
   "outputs": [
    {
     "name": "stdout",
     "output_type": "stream",
     "text": [
      "['Toyota', 'Nissan', 'Bmw', 'Benz', 'Audi']\n"
     ]
    }
   ],
   "source": [
    "Cars.reverse()\n",
    "print(Cars)"
   ]
  },
  {
   "cell_type": "code",
   "execution_count": 7,
   "metadata": {},
   "outputs": [
    {
     "name": "stdout",
     "output_type": "stream",
     "text": [
      "['Huda', 'Georgin', 'Arsen', 'Idris']\n"
     ]
    }
   ],
   "source": [
    "students=['Huda', 'Georgin','Arsen','Idris']\n",
    "print(students)"
   ]
  },
  {
   "cell_type": "code",
   "execution_count": null,
   "metadata": {},
   "outputs": [],
   "source": [
    "#req: I want to appreciate all students in the above list"
   ]
  },
  {
   "cell_type": "code",
   "execution_count": 8,
   "metadata": {},
   "outputs": [
    {
     "name": "stdout",
     "output_type": "stream",
     "text": [
      "Keep up the good work,Huda\n"
     ]
    }
   ],
   "source": [
    "print(f\"Keep up the good work,{students[0].title()}\")"
   ]
  },
  {
   "cell_type": "code",
   "execution_count": 9,
   "metadata": {},
   "outputs": [
    {
     "name": "stdout",
     "output_type": "stream",
     "text": [
      "Keep up the good work,Georgin\n"
     ]
    }
   ],
   "source": [
    "print(f\"Keep up the good work,{students[1].title()}\")"
   ]
  },
  {
   "cell_type": "code",
   "execution_count": null,
   "metadata": {},
   "outputs": [],
   "source": [
    "#intoduction to  for loop"
   ]
  },
  {
   "cell_type": "code",
   "execution_count": null,
   "metadata": {},
   "outputs": [],
   "source": [
    "#general syntax of for loop"
   ]
  },
  {
   "cell_type": "code",
   "execution_count": null,
   "metadata": {},
   "outputs": [],
   "source": [
    "for temvar in mainvar:\n",
    "    print(temvar)"
   ]
  },
  {
   "cell_type": "code",
   "execution_count": 12,
   "metadata": {},
   "outputs": [
    {
     "name": "stdout",
     "output_type": "stream",
     "text": [
      "Huda\n",
      "Georgin\n",
      "Arsen\n",
      "Idris\n"
     ]
    }
   ],
   "source": [
    "for x in students:\n",
    "    print(x)"
   ]
  },
  {
   "cell_type": "code",
   "execution_count": null,
   "metadata": {},
   "outputs": [],
   "source": [
    "#req: I want to appreciate all students in one shot"
   ]
  },
  {
   "cell_type": "code",
   "execution_count": 13,
   "metadata": {},
   "outputs": [
    {
     "name": "stdout",
     "output_type": "stream",
     "text": [
      "Keep up the good work,Huda\n",
      "I am looking forward to receive your practice file,Huda/n\n",
      "Keep up the good work,Georgin\n",
      "I am looking forward to receive your practice file,Georgin/n\n",
      "Keep up the good work,Arsen\n",
      "I am looking forward to receive your practice file,Arsen/n\n",
      "Keep up the good work,Idris\n",
      "I am looking forward to receive your practice file,Idris/n\n",
      "Thank you all\n"
     ]
    }
   ],
   "source": [
    "for x in students :\n",
    "    print(f\"Keep up the good work,{x.title()}\")\n",
    "    print(f\"I am looking forward to receive your practice file,{x.title()}/n\")\n",
    "print(\"Thank you all\")    "
   ]
  },
  {
   "cell_type": "code",
   "execution_count": null,
   "metadata": {},
   "outputs": [],
   "source": []
  }
 ],
 "metadata": {
  "kernelspec": {
   "display_name": "Python 3",
   "language": "python",
   "name": "python3"
  },
  "language_info": {
   "codemirror_mode": {
    "name": "ipython",
    "version": 3
   },
   "file_extension": ".py",
   "mimetype": "text/x-python",
   "name": "python",
   "nbconvert_exporter": "python",
   "pygments_lexer": "ipython3",
   "version": "3.8.5"
  }
 },
 "nbformat": 4,
 "nbformat_minor": 4
}
